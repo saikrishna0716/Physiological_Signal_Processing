{
 "cells": [
  {
   "cell_type": "markdown",
   "id": "1249c462",
   "metadata": {},
   "source": [
    "# ENGR-E599\n",
    "# Final Project: Analysing physiological signals to detect deception"
   ]
  },
  {
   "cell_type": "markdown",
   "id": "4c1e635f",
   "metadata": {},
   "source": [
    "### Importing required libraries"
   ]
  },
  {
   "cell_type": "code",
   "execution_count": null,
   "id": "2f4c7067",
   "metadata": {},
   "outputs": [],
   "source": [
    "# Import library\n",
    "import glob\n",
    "import numpy as np\n",
    "import pandas as pd\n",
    "import scipy.io\n",
    "import re\n",
    "import random\n",
    "import neurokit2 as nk\n",
    "from scipy.signal import find_peaks\n",
    "import scipy.signal as signal\n",
    "from detecta import detect_peaks\n",
    "from numpy.lib.recfunctions import append_fields\n",
    "import pandas as pd\n",
    "from statsmodels.stats.anova import AnovaRM\n",
    "import matplotlib.pyplot as plt"
   ]
  },
  {
   "cell_type": "markdown",
   "id": "0e0faa74",
   "metadata": {},
   "source": [
    "### Plotting ECG data"
   ]
  },
  {
   "cell_type": "code",
   "execution_count": null,
   "id": "e923e489",
   "metadata": {},
   "outputs": [],
   "source": [
    "# fig, ax = plt.subplots()\n",
    "\n",
    "# # Plot the ECG data\n",
    "# ax.plot(ECG_data)\n",
    "\n",
    "# # Set the title and axis labels\n",
    "# ax.set_title('ECG Plot')\n",
    "# ax.set_xlabel('Time (s)')\n",
    "# ax.set_ylabel('Amplitude (mV)')\n",
    "# ax.set_yticklabels([])\n",
    "\n",
    "# # Show the plot\n",
    "# plt.show()"
   ]
  },
  {
   "cell_type": "markdown",
   "id": "86e1528e",
   "metadata": {},
   "source": [
    "### Creating a dataframe for ANOVA"
   ]
  },
  {
   "cell_type": "code",
   "execution_count": null,
   "id": "64dcaa62",
   "metadata": {
    "scrolled": true
   },
   "outputs": [],
   "source": [
    "def create_df(num_blocks, num_subjects, blocks_list):\n",
    "\n",
    "#     num_blocks = 3\n",
    "#     num_subjects = 22\n",
    "    subject_list = [None]*num_subjects*num_blocks\n",
    "\n",
    "    idx_sub = 0\n",
    "    idx_blk = 0\n",
    "    sub = 1\n",
    "\n",
    "    while idx_sub < num_subjects*num_blocks:\n",
    "        for idx_blk in range(num_blocks):\n",
    "            subject_list[idx_sub] = sub\n",
    "            idx_sub += 1\n",
    "        sub += 1\n",
    "\n",
    "    blocks = blocks_list*num_subjects\n",
    "\n",
    "    data_df = {'subject': subject_list,\n",
    "            'block':   blocks,\n",
    "            'mean_IBI': [None]*num_blocks*num_subjects,\n",
    "            'mean_EDA': [None]*num_blocks*num_subjects}\n",
    "\n",
    "    df = pd.DataFrame(data_df)\n",
    "    \n",
    "    return df"
   ]
  },
  {
   "cell_type": "markdown",
   "id": "18fa3c71",
   "metadata": {},
   "source": [
    "### Helper functions for extracting features"
   ]
  },
  {
   "cell_type": "code",
   "execution_count": null,
   "id": "0b9e2161",
   "metadata": {},
   "outputs": [],
   "source": [
    "b, a = signal.butter(4, [0.1, 0.15], btype='band', analog=True)\n",
    "w, h = signal.freqs(b, a)\n",
    "plt.semilogx(w, 20 * np.log10(abs(h)))\n",
    "plt.show()"
   ]
  },
  {
   "cell_type": "code",
   "execution_count": null,
   "id": "911da007",
   "metadata": {},
   "outputs": [],
   "source": [
    "def filter_resp_signal(rsp_signal):\n",
    "\n",
    "    # Design the filter\n",
    "    low = 0.1\n",
    "    high = 0.5\n",
    "    b,a = signal.butter(4, [low, high], btype='band', analog='True')\n",
    "\n",
    "    # Apply filter to respiratory signal\n",
    "    filtered_rsp_signal = signal.filtfilt(b, a, rsp_signal)\n",
    "    \n",
    "    return filtered_rsp_signal"
   ]
  },
  {
   "cell_type": "code",
   "execution_count": null,
   "id": "66064902",
   "metadata": {},
   "outputs": [],
   "source": [
    "def ECG_features(ecg_data):\n",
    "    \n",
    "    signals, info = nk.ecg_process(ecg_data, sampling_rate=1000)\n",
    "    clean_ECG = signals['ECG_Clean']\n",
    "    \n",
    "    peaks = signals[(signals['ECG_R_Peaks'] == 1)].index\n",
    "    IBIs = np.diff(peaks)\n",
    "    \n",
    "    return round(np.mean(IBIs),2)\n",
    "    \n",
    "    \n",
    "def RSP_features(resp_data):\n",
    "    \n",
    "    signals, info = nk.rsp_process(resp_data, sampling_rate=1000)\n",
    "    \n",
    "    clean_resp_data = signals['RSP_Clean']\n",
    "    \n",
    "    filtered_data = filter_resp_signal(clean_resp_data)\n",
    "\n",
    "    # Detecting peaks in the signal\n",
    "    peaks, _ = find_peaks(filtered_data, height=0)\n",
    "\n",
    "    # Calculating respiration rate\n",
    "    duration = len(resp_data) / 1000\n",
    "    respiration_rate = len(peaks) / duration * 60\n",
    "\n",
    "    # Calculating IE ratio\n",
    "    inhale_durations = np.diff(peaks[:-1])\n",
    "    exhale_durations = np.diff(peaks[1:])\n",
    "    ie_ratio = inhale_durations / exhale_durations\n",
    "    \n",
    "    return round(respiration_rate,2), round(np.mean(ie_ratio),2)\n",
    "\n",
    "def EDA_features(eda_data):\n",
    "    \n",
    "    signals, info = nk.eda_process(eda_data, sampling_rate=1000)\n",
    "    clean_EDA = signals['EDA_Clean']\n",
    "    \n",
    "    highpass = nk.eda_phasic(eda_data, method='highpass')\n",
    "    EDA_Phasic = highpass['EDA_Phasic']\n",
    "    \n",
    "    analyze_df = nk.eda_analyze(signals, sampling_rate=1000)\n",
    "    \n",
    "    return np.mean(eda_data), np.mean(EDA_Phasic), analyze_df['SCR_Peaks_Amplitude_Mean']"
   ]
  },
  {
   "cell_type": "code",
   "execution_count": null,
   "id": "7a100d84",
   "metadata": {},
   "outputs": [],
   "source": [
    "# import neurokit2 as nk\n",
    "\n",
    "# # Simulate EDA signal\n",
    "# eda_signal = nk.eda_simulate(duration=100, scr_number=5, drift=0.1)\n",
    "\n",
    "# # # Decompose using different algorithms\n",
    "# # # cvxEDA = nk.eda_phasic(eda_signal, method='cvxeda')\n",
    "# # smoothMedian = nk.eda_phasic(eda_signal, method='smoothmedian')\n",
    "\n",
    "# # highpass = nk.eda_phasic(eda_signal, method='highpass')\n",
    "\n",
    "# # # print(highpass['EDA_Phasic'])\n",
    "\n",
    "# df, info = nk.eda_process(eda_signal, sampling_rate=1000)\n",
    "# analyze_df = nk.eda_analyze(df, sampling_rate=1000)\n",
    "\n",
    "# print(analyze_df['SCR_Peaks_Amplitude_Mean'])"
   ]
  },
  {
   "cell_type": "markdown",
   "id": "36b1ecd3",
   "metadata": {},
   "source": [
    "### Extracting ECG, EDA and Respiratory features features"
   ]
  },
  {
   "cell_type": "code",
   "execution_count": null,
   "id": "f02e4ca7",
   "metadata": {},
   "outputs": [],
   "source": [
    "def write_data_to_df(data, blocks, block_start_time):\n",
    "    \n",
    "    plot_data = []\n",
    "    plot_legend = []\n",
    "    \n",
    "    for block in blocks:\n",
    "        start_time = block_start_time[block-1]+30000\n",
    "        end_time = block_start_time[block]\n",
    "\n",
    "        block_data = data[start_time:end_time]\n",
    "        block_ECG = block_data[:,3]\n",
    "        \n",
    "#         mean_IBI = ECG_features(block_ECG)\n",
    "        \n",
    "        # Cleaning the ECG data\n",
    "        signals, info = nk.ecg_process(block_ECG, sampling_rate=1000)\n",
    "        clean_ECG = signals['ECG_Clean']\n",
    "        \n",
    "        plt.plot(block_ECG, clean_ECG)\n",
    "        plt.clf()\n",
    "\n",
    "        # Detecting R peaks and calculating IBIs\n",
    "        peaks = signals[(signals['ECG_R_Peaks'] == 1)].index\n",
    "        IBIs = np.diff(peaks)\n",
    "#         print(IBIs)\n",
    "        plt.hist(IBIs)\n",
    "        plt.savefig(\"/Users/saikrishna/Downloads/Physiological_Time_Series/Final Project/Plots/IBI_histogram_\" + str(subject_number) + \"_\" + str(block) + \".png\")\n",
    "        plt.clf()\n",
    "#         print(IBIs)\n",
    "\n",
    "        \n",
    "        \n",
    "        block_EDA = block_data[:,2]\n",
    "        signals, info = nk.eda_process(block_EDA, sampling_rate=1000)\n",
    "        clean_EDA = signals['EDA_Clean']\n",
    "        \n",
    "#         block_resp = block_data[:,1]\n",
    "#         filtered_data = filter_resp_signal(block_resp)\n",
    "        \n",
    "#         # Detect peaks in the signal\n",
    "#         peaks, _ = find_peaks(filtered_data, height=0)\n",
    "\n",
    "#         # Calculate respiration rate\n",
    "#         duration = len(block_data) / 1000 # sampling_rate is the frequency of the signal\n",
    "#         respiration_rate = len(peaks) / duration * 60\n",
    "        \n",
    "#         # Calculating IE ratio\n",
    "#         inhale_durations = np.diff(peaks[:-1]) # Durations of inhalation phases\n",
    "#         exhale_durations = np.diff(peaks[1:]) # Durations of exhalation phases (exclude first peak)\n",
    "#         ie_ratio = inhale_durations / exhale_durations\n",
    "\n",
    "#         final_df.loc[(final_df.subject == subject_number) & (final_df.block == block),\"mean_IBI\"] = int(np.mean(IBIs))\n",
    "#         final_df.loc[(final_df.subject == subject_number) & (final_df.block == block),\"mean_EDA\"] = round(np.mean(block_EDA),2)\n",
    "#         final_df.loc[(final_df.subject == subject_number) & (final_df.block == block),\"mean_ResRate\"] = respiration_rate\n",
    "#         final_df.loc[(final_df.subject == subject_number) & (final_df.block == block),\"mean_IERatio\"] = np.mean(ie_ratio)\n",
    "    \n",
    "        plot_data.append(clean_EDA)\n",
    "        plot_legend.append(block)\n",
    "\n",
    "    # Plot the dataframe\n",
    "    plt.boxplot(plot_data)\n",
    "    plt.xticks([1, 2, 3], plot_legend)\n",
    "    plt.xlabel('Block number')\n",
    "    plt.ylabel('Cleaned EDA')\n",
    "\n",
    "    plt.savefig(\"/Users/saikrishna/Downloads/Physiological_Time_Series/Final Project/Plots/Boxplot_for_\" + str(subject_number) + \".png\")\n",
    "    plt.clf()\n",
    "    \n",
    "    return"
   ]
  },
  {
   "cell_type": "code",
   "execution_count": null,
   "id": "e63f903c",
   "metadata": {},
   "outputs": [],
   "source": [
    "def write_data_to_df(data, blocks, block_start_time):\n",
    "    \n",
    "    plot_data = []\n",
    "    plot_legend = []\n",
    "    \n",
    "    for block in blocks:\n",
    "        \n",
    "        # Only task period in the block is considered (+ 30 sec or 30k ms)\n",
    "        start_time = block_start_time[block-1]+30000\n",
    "        end_time = block_start_time[block]\n",
    "\n",
    "        block_data = data[start_time:end_time]\n",
    "        \n",
    "        # Extracting features\n",
    "        mean_IBI = ECG_features(block_data[:,3])\n",
    "        respiration_rate, mean_IE_ratio = RSP_features(block_data[:,1])\n",
    "        mean_EDA, mean_phasic_EDA, mean_SCR_Peaks_Amplitude = EDA_features(block_data[:,2])\n",
    "        \n",
    "        # Writing the measures to final dataframe\n",
    "        final_df.loc[(final_df.subject == subject_number) & (final_df.block == block),\"mean_IBI\"] = mean_IBI\n",
    "        final_df.loc[(final_df.subject == subject_number) & (final_df.block == block),\"mean_EDA\"] = mean_EDA\n",
    "        final_df.loc[(final_df.subject == subject_number) & (final_df.block == block),\"mean_phasic_EDA\"] = mean_phasic_EDA\n",
    "        final_df.loc[(final_df.subject == subject_number) & (final_df.block == block),\"mean_SCR_Peaks_Amplitude\"] = mean_SCR_Peaks_Amplitude\n",
    "        final_df.loc[(final_df.subject == subject_number) & (final_df.block == block),\"mean_ResRate\"] = respiration_rate\n",
    "        final_df.loc[(final_df.subject == subject_number) & (final_df.block == block),\"mean_IERatio\"] = mean_IE_ratio\n",
    "    \n",
    "    return"
   ]
  },
  {
   "cell_type": "markdown",
   "id": "279d8927",
   "metadata": {},
   "source": [
    "### Building the ANOVA table"
   ]
  },
  {
   "cell_type": "code",
   "execution_count": null,
   "id": "96c889db",
   "metadata": {},
   "outputs": [],
   "source": [
    "file_list = glob.glob(\"/Users/saikrishna/Downloads/Physiological_Time_Series/Final Project/New Physio_Events records/*\")\n",
    "\n",
    "blocks_list = [4,5,7]\n",
    "num_subjects = 29\n",
    "    \n",
    "final_df = create_df(len(blocks_list), num_subjects, blocks_list)\n",
    "\n",
    "# print(final_df)\n",
    "    \n",
    "for file in file_list:\n",
    "    \n",
    "    mat = scipy.io.loadmat(file)['bp_data'][0][0]\n",
    "\n",
    "    file_name = file.split('/')[-1]\n",
    "    pattern = r'\\d+'\n",
    "    match = re.search(pattern, file_name)\n",
    "    subject_number = int(match.group())\n",
    "\n",
    "    file_data = mat['data']\n",
    "    \n",
    "    file_block_start_time = []\n",
    "    \n",
    "    for i in mat['BLOCK_START']:\n",
    "        file_block_start_time.append(int(i[0]))\n",
    "        \n",
    "    \n",
    "    file_block_start_time.insert(0,0)\n",
    "    file_block_start_time.append(len(file_data))\n",
    "    \n",
    "    write_data_to_df(file_data, blocks_list, file_block_start_time)"
   ]
  },
  {
   "cell_type": "code",
   "execution_count": null,
   "id": "cea93ee8",
   "metadata": {},
   "outputs": [],
   "source": [
    "print(final_df.to_markdown())\n",
    "\n",
    "# print(final_df.groupby(['subject']).mean())"
   ]
  },
  {
   "cell_type": "code",
   "execution_count": null,
   "id": "0e523324",
   "metadata": {},
   "outputs": [],
   "source": [
    "# baseline = final_df.loc[final_df[\"block\"] == 5].groupby(\"subject\")[\"mean_IBI\"].mean()\n",
    "# final_df[\"mean_ibi_diff\"] = final_df.apply(lambda x: x[\"mean_IBI\"] - baseline[x[\"subject\"]], axis=1)\n",
    "\n",
    "# print(final_df)"
   ]
  },
  {
   "cell_type": "code",
   "execution_count": null,
   "id": "26cc92f6",
   "metadata": {},
   "outputs": [],
   "source": [
    "blocks = [4,5,7]\n",
    "subjects_a = [21, 22, 23, 24, 27, 29]\n",
    "subjects_b = [8,9,10,11,12,13,14,15,16,17,18,19,20,25,26,28]\n",
    "\n",
    "test_df_a_deceptive = final_df.loc[(final_df[\"block\"] == 4) & (final_df[\"subject\"].isin(subjects_a))]\n",
    "test_df_a_nondeceptive = final_df.loc[(final_df[\"block\"] != 4) & (final_df[\"subject\"].isin(subjects_a))]\n",
    "# print(test_df_a_deceptive['mean_EDA'].mean())\n",
    "# print(test_df_a_nondeceptive['mean_EDA'].mean())\n",
    "test_df_b_deceptive = final_df.loc[(final_df[\"block\"] == 7) & (final_df[\"subject\"].isin(subjects_b))]\n",
    "test_df_b_nondeceptive = final_df.loc[(final_df[\"block\"] != 7) & (final_df[\"subject\"].isin(subjects_b))]\n",
    "\n",
    "plt.boxplot([test_df_a_deceptive['mean_EDA'], test_df_a_nondeceptive['mean_EDA']])\n",
    "plt.xticks([1, 2], ['Deceptive', 'Non-deceptive'])\n",
    "plt.ylabel('Mean EDA values')\n",
    "plt.savefig(\"/Users/saikrishna/Downloads/Physiological_Time_Series/Final Project/group_summary.png\")"
   ]
  },
  {
   "cell_type": "markdown",
   "id": "d889a498",
   "metadata": {},
   "source": [
    "## ANOVA experimentation"
   ]
  },
  {
   "cell_type": "code",
   "execution_count": null,
   "id": "ab185249",
   "metadata": {
    "scrolled": false
   },
   "outputs": [],
   "source": [
    "anova_df = test_df\n",
    "\n",
    "result = AnovaRM(anova_df, depvar='mean_EDA', subject='subject', within=['block']).fit()\n",
    "print(result.summary())\n",
    "\n",
    "result = AnovaRM(anova_df, depvar='mean_phasic_EDA', subject='subject', within=['block']).fit()\n",
    "print(result.summary())\n",
    "\n",
    "result = AnovaRM(anova_df, depvar='mean_IBI', subject='subject', within=['block']).fit()\n",
    "print(result.summary())\n",
    "\n",
    "result = AnovaRM(anova_df, depvar='mean_IERatio', subject='subject', within=['block']).fit()\n",
    "print(result.summary())"
   ]
  },
  {
   "cell_type": "markdown",
   "id": "dd6b607a",
   "metadata": {},
   "source": [
    "### Plotting Raw vs Cleaned ECG data"
   ]
  },
  {
   "cell_type": "code",
   "execution_count": null,
   "id": "298a8c09",
   "metadata": {},
   "outputs": [],
   "source": [
    "# cleaned_ECG = nk.ecg_clean(block_ECG, sampling_rate=1000, method=\"neurokit\")\n",
    "\n",
    "# plt.rcParams['figure.figsize'] = [10, 8]\n",
    "# plt.plot(block_ECG[:3000])\n",
    "# plt.plot(cleaned_ECG[:3000])\n",
    "# plt.legend(['raw','cleaned'])"
   ]
  }
 ],
 "metadata": {
  "kernelspec": {
   "display_name": "Python 3 (ipykernel)",
   "language": "python",
   "name": "python3"
  },
  "language_info": {
   "codemirror_mode": {
    "name": "ipython",
    "version": 3
   },
   "file_extension": ".py",
   "mimetype": "text/x-python",
   "name": "python",
   "nbconvert_exporter": "python",
   "pygments_lexer": "ipython3",
   "version": "3.9.13"
  }
 },
 "nbformat": 4,
 "nbformat_minor": 5
}
